{
 "cells": [
  {
   "cell_type": "code",
   "execution_count": 2,
   "metadata": {},
   "outputs": [],
   "source": [
    "# Dependencies\n",
    "import gzip\n",
    "import csv\n",
    "import json\n",
    "import pandas as pd\n",
    "import numpy as np\n",
    "import seaborn as sns\n",
    "import matplotlib.pyplot as plt\n",
    "from sklearn import preprocessing\n",
    "%matplotlib inline\n",
    "from datetime import date\n",
    "import datetime\n",
    "import calendar\n",
    "import holidays\n",
    "from pprint import pprint\n",
    "import calmap\n",
    "from pandas.plotting import register_matplotlib_converters\n",
    "register_matplotlib_converters()"
   ]
  },
  {
   "cell_type": "code",
   "execution_count": 3,
   "metadata": {},
   "outputs": [],
   "source": [
    "# Import Data\n",
    "data_df = pd.read_csv('SFcalendar.csv.gz', nrows=100000, compression='gzip', error_bad_lines=False)\n",
    "data_df = data_df.drop(['adjusted_price', 'minimum_nights', 'maximum_nights'], axis=1)\n",
    "# Set Display Options\n",
    "pd.set_option('display.max_rows', 100000)\n",
    "pd.set_option('display.max_columns', 100000)\n",
    "pd.set_option('display.width', 100000)"
   ]
  },
  {
   "cell_type": "code",
   "execution_count": 4,
   "metadata": {},
   "outputs": [
    {
     "name": "stdout",
     "output_type": "stream",
     "text": [
      "<class 'pandas.core.frame.DataFrame'>\n",
      "RangeIndex: 100000 entries, 0 to 99999\n",
      "Data columns (total 4 columns):\n",
      "listing_id    100000 non-null int64\n",
      "date          100000 non-null object\n",
      "available     100000 non-null object\n",
      "price         100000 non-null object\n",
      "dtypes: int64(1), object(3)\n",
      "memory usage: 3.1+ MB\n"
     ]
    }
   ],
   "source": [
    "# Current Value Formats\n",
    "data_df.info()"
   ]
  },
  {
   "cell_type": "code",
   "execution_count": 5,
   "metadata": {
    "scrolled": true
   },
   "outputs": [
    {
     "name": "stdout",
     "output_type": "stream",
     "text": [
      "<class 'pandas.core.frame.DataFrame'>\n",
      "Int64Index: 100000 entries, 0 to 99999\n",
      "Data columns (total 7 columns):\n",
      "listing_id    100000 non-null int64\n",
      "date          100000 non-null datetime64[ns]\n",
      "available     100000 non-null object\n",
      "price         100000 non-null float64\n",
      "year          100000 non-null object\n",
      "month         100000 non-null object\n",
      "day           100000 non-null object\n",
      "dtypes: datetime64[ns](1), float64(1), int64(1), object(4)\n",
      "memory usage: 6.1+ MB\n"
     ]
    }
   ],
   "source": [
    "# Reformat Values\n",
    "data_df=data_df.dropna()\n",
    "data_df['price'] = data_df['price'].map(lambda x: x.lstrip('$'))\n",
    "data_df['price'] = data_df['price'].str.replace(',', '')\n",
    "data_df['year'] = data_df['date'].str[0:4]\n",
    "data_df['month'] = data_df['date'].str[5:7]\n",
    "data_df['day'] = data_df['date'].str[8:10]\n",
    "data_df['date'] = pd.to_datetime(data_df['date'])\n",
    "data_df['price'] = pd.to_numeric(data_df['price'])\n",
    "data_df.info()"
   ]
  },
  {
   "cell_type": "code",
   "execution_count": 7,
   "metadata": {},
   "outputs": [
    {
     "data": {
      "image/png": "[encoded data removed]",
      "text/plain": [
       "<Figure size 2160x720 with 1 Axes>"
      ]
     },
     "metadata": {
      "needs_background": "light"
     },
     "output_type": "display_data"
    }
   ],
   "source": [
    "# Grouping by date for Calendar Heatmap\n",
    "data_df_grouped = data_df.groupby('date').agg({'price':'mean'})\n",
    "heatmap = pd.Series(data_df_grouped['price'], index=data_df_grouped.index)\n",
    "\n",
    "# Plot Calendar Heatmap\n",
    "f, ax = plt.subplots(1, 1, figsize = (30, 10))\n",
    "calmap.yearplot(heatmap, year=2019, ax=ax)\n",
    "plt.title(\"SF: Calendar Heatmap\", fontsize=30)\n",
    "plt.savefig(\"SF_Calendar_Heatmap.png\")"
   ]
  },
  {
   "cell_type": "code",
   "execution_count": 8,
   "metadata": {},
   "outputs": [
    {
     "data": {
      "text/plain": [
       "<matplotlib.axes._subplots.AxesSubplot at 0x1c296d0e1d0>"
      ]
     },
     "execution_count": 8,
     "metadata": {},
     "output_type": "execute_result"
    },
    {
     "data": {
      "image/png": "[encoded data removed]",
      "text/plain": [
       "<Figure size 432x288 with 1 Axes>"
      ]
     },
     "metadata": {
      "needs_background": "light"
     },
     "output_type": "display_data"
    }
   ],
   "source": [
    "# Monthly Price Averages - I DID THIS DIFFERENTLY FROM BAR CHARTS BELOW. DOES NOT LOOK RIGHT. WILL REDO\n",
    "data_df_avg = data_df.groupby(['month'], as_index=False)['price'].mean()\n",
    "data_df_avg.index = data_df_avg.index+1\n",
    "ax.set_ylabel(\"Average Price\")\n",
    "data_df_avg.plot()"
   ]
  },
  {
   "cell_type": "code",
   "execution_count": 9,
   "metadata": {},
   "outputs": [
    {
     "name": "stderr",
     "output_type": "stream",
     "text": [
      "C:\\Users\\stabe\\Anaconda3\\lib\\site-packages\\ipykernel_launcher.py:9: FutureWarning: set_value is deprecated and will be removed in a future release. Please use .at[] or .iat[] accessors instead\n",
      "  if __name__ == '__main__':\n",
      "C:\\Users\\stabe\\Anaconda3\\lib\\site-packages\\ipykernel_launcher.py:10: FutureWarning: set_value is deprecated and will be removed in a future release. Please use .at[] or .iat[] accessors instead\n",
      "  # Remove the CWD from sys.path while we load stuff.\n",
      "C:\\Users\\stabe\\Anaconda3\\lib\\site-packages\\ipykernel_launcher.py:11: FutureWarning: set_value is deprecated and will be removed in a future release. Please use .at[] or .iat[] accessors instead\n",
      "  # This is added back by InteractiveShellApp.init_path()\n"
     ]
    }
   ],
   "source": [
    "# ID Day of Week and Holidays\n",
    "us_holidays = holidays.US()\n",
    "data_df['dayofweek']='default'\n",
    "data_df['holiday']='False'\n",
    "data_df['holiday_name']='working'\n",
    "for index,row in data_df.iterrows():\n",
    "    sdate = datetime.date(int(row['year']),int(row['month']),int(row['day']))\n",
    "    vall=date(int(row['year']),int(row['month']),int(row['day'])) in us_holidays\n",
    "    data_df.set_value(index,'dayofweek', calendar.day_name[sdate.weekday()])\n",
    "    data_df.set_value(index,'holiday',vall)\n",
    "    data_df.set_value(index,'holiday_name',us_holidays.get(sdate))"
   ]
  },
  {
   "cell_type": "code",
   "execution_count": 10,
   "metadata": {},
   "outputs": [
    {
     "name": "stderr",
     "output_type": "stream",
     "text": [
      "C:\\Users\\stabe\\Anaconda3\\lib\\site-packages\\ipykernel_launcher.py:16: FutureWarning: set_value is deprecated and will be removed in a future release. Please use .at[] or .iat[] accessors instead\n",
      "  app.launch_new_instance()\n",
      "C:\\Users\\stabe\\Anaconda3\\lib\\site-packages\\ipykernel_launcher.py:8: FutureWarning: set_value is deprecated and will be removed in a future release. Please use .at[] or .iat[] accessors instead\n",
      "  \n",
      "C:\\Users\\stabe\\Anaconda3\\lib\\site-packages\\ipykernel_launcher.py:18: FutureWarning: set_value is deprecated and will be removed in a future release. Please use .at[] or .iat[] accessors instead\n",
      "C:\\Users\\stabe\\Anaconda3\\lib\\site-packages\\ipykernel_launcher.py:20: FutureWarning: set_value is deprecated and will be removed in a future release. Please use .at[] or .iat[] accessors instead\n",
      "C:\\Users\\stabe\\Anaconda3\\lib\\site-packages\\ipykernel_launcher.py:14: FutureWarning: set_value is deprecated and will be removed in a future release. Please use .at[] or .iat[] accessors instead\n",
      "  \n",
      "C:\\Users\\stabe\\Anaconda3\\lib\\site-packages\\ipykernel_launcher.py:10: FutureWarning: set_value is deprecated and will be removed in a future release. Please use .at[] or .iat[] accessors instead\n",
      "  # Remove the CWD from sys.path while we load stuff.\n",
      "C:\\Users\\stabe\\Anaconda3\\lib\\site-packages\\ipykernel_launcher.py:12: FutureWarning: set_value is deprecated and will be removed in a future release. Please use .at[] or .iat[] accessors instead\n",
      "  if sys.path[0] == '':\n"
     ]
    },
    {
     "data": {
      "text/html": [
       "<div>\n",
       "<style scoped>\n",
       "    .dataframe tbody tr th:only-of-type {\n",
       "        vertical-align: middle;\n",
       "    }\n",
       "\n",
       "    .dataframe tbody tr th {\n",
       "        vertical-align: top;\n",
       "    }\n",
       "\n",
       "    .dataframe thead th {\n",
       "        text-align: right;\n",
       "    }\n",
       "</style>\n",
       "<table border=\"1\" class=\"dataframe\">\n",
       "  <thead>\n",
       "    <tr style=\"text-align: right;\">\n",
       "      <th></th>\n",
       "      <th>dayofweek</th>\n",
       "      <th>Average_Price</th>\n",
       "      <th>day#</th>\n",
       "    </tr>\n",
       "  </thead>\n",
       "  <tbody>\n",
       "    <tr>\n",
       "      <th>1</th>\n",
       "      <td>Monday</td>\n",
       "      <td>171.498386</td>\n",
       "      <td>1</td>\n",
       "    </tr>\n",
       "    <tr>\n",
       "      <th>5</th>\n",
       "      <td>Tuesday</td>\n",
       "      <td>171.587814</td>\n",
       "      <td>2</td>\n",
       "    </tr>\n",
       "    <tr>\n",
       "      <th>6</th>\n",
       "      <td>Wednesday</td>\n",
       "      <td>171.660423</td>\n",
       "      <td>3</td>\n",
       "    </tr>\n",
       "    <tr>\n",
       "      <th>4</th>\n",
       "      <td>Thursday</td>\n",
       "      <td>171.631150</td>\n",
       "      <td>4</td>\n",
       "    </tr>\n",
       "    <tr>\n",
       "      <th>0</th>\n",
       "      <td>Friday</td>\n",
       "      <td>174.627430</td>\n",
       "      <td>5</td>\n",
       "    </tr>\n",
       "    <tr>\n",
       "      <th>2</th>\n",
       "      <td>Saturday</td>\n",
       "      <td>174.607496</td>\n",
       "      <td>6</td>\n",
       "    </tr>\n",
       "    <tr>\n",
       "      <th>3</th>\n",
       "      <td>Sunday</td>\n",
       "      <td>171.510670</td>\n",
       "      <td>7</td>\n",
       "    </tr>\n",
       "  </tbody>\n",
       "</table>\n",
       "</div>"
      ],
      "text/plain": [
       "   dayofweek  Average_Price  day#\n",
       "1     Monday     171.498386     1\n",
       "5    Tuesday     171.587814     2\n",
       "6  Wednesday     171.660423     3\n",
       "4   Thursday     171.631150     4\n",
       "0     Friday     174.627430     5\n",
       "2   Saturday     174.607496     6\n",
       "3     Sunday     171.510670     7"
      ]
     },
     "execution_count": 10,
     "metadata": {},
     "output_type": "execute_result"
    }
   ],
   "source": [
    "# Calc Avg Prices for DoW\n",
    "DoW_df=data_df.groupby('dayofweek').price.mean()\n",
    "DoW_df=DoW_df.reset_index()\n",
    "DoW_df['day#']=0\n",
    "\n",
    "for index,row in DoW_df.iterrows():\n",
    "    if row['dayofweek']=='Monday':\n",
    "        DoW_df.set_value(index,'day#',1)\n",
    "    if row['dayofweek']=='Tuesday':\n",
    "        DoW_df.set_value(index,'day#',2)\n",
    "    if row['dayofweek']=='Wednesday':\n",
    "        DoW_df.set_value(index,'day#',3)\n",
    "    if row['dayofweek']=='Thursday':\n",
    "        DoW_df.set_value(index,'day#',4)\n",
    "    if row['dayofweek']=='Friday':\n",
    "        DoW_df.set_value(index,'day#',5)\n",
    "    if row['dayofweek']=='Saturday':\n",
    "        DoW_df.set_value(index,'day#',6)\n",
    "    if row['dayofweek']=='Sunday':\n",
    "        DoW_df.set_value(index,'day#',7)\n",
    "DoW_df=DoW_df.sort_values('day#',ascending=[1])\n",
    "DoW_df=DoW_df.rename(columns={'price':'Average_Price'})\n",
    "DoW_df"
   ]
  },
  {
   "cell_type": "code",
   "execution_count": 11,
   "metadata": {},
   "outputs": [
    {
     "data": {
      "image/png": "[encoded data removed]",
      "text/plain": [
       "<Figure size 1368x576 with 1 Axes>"
      ]
     },
     "metadata": {
      "needs_background": "light"
     },
     "output_type": "display_data"
    }
   ],
   "source": [
    "# Day of Week Prices\n",
    "plt.figure(figsize=(19,8))\n",
    "ax = sns.barplot(\"dayofweek\", y=\"Average_Price\", data=DoW_df,color=\"g\")\n",
    "ax.set(xlabel='Day Of Week', ylabel='Average Price (US$)')\n",
    "plt.title(\"SF: Average Prices: Days Of Week\")  \n",
    "plt.savefig(\"SF Average Day Of Week Prices.png\")"
   ]
  },
  {
   "cell_type": "code",
   "execution_count": 12,
   "metadata": {},
   "outputs": [
    {
     "name": "stderr",
     "output_type": "stream",
     "text": [
      "C:\\Users\\stabe\\Anaconda3\\lib\\site-packages\\ipykernel_launcher.py:28: FutureWarning: set_value is deprecated and will be removed in a future release. Please use .at[] or .iat[] accessors instead\n",
      "C:\\Users\\stabe\\Anaconda3\\lib\\site-packages\\ipykernel_launcher.py:20: FutureWarning: set_value is deprecated and will be removed in a future release. Please use .at[] or .iat[] accessors instead\n",
      "C:\\Users\\stabe\\Anaconda3\\lib\\site-packages\\ipykernel_launcher.py:16: FutureWarning: set_value is deprecated and will be removed in a future release. Please use .at[] or .iat[] accessors instead\n",
      "  app.launch_new_instance()\n",
      "C:\\Users\\stabe\\Anaconda3\\lib\\site-packages\\ipykernel_launcher.py:18: FutureWarning: set_value is deprecated and will be removed in a future release. Please use .at[] or .iat[] accessors instead\n",
      "C:\\Users\\stabe\\Anaconda3\\lib\\site-packages\\ipykernel_launcher.py:10: FutureWarning: set_value is deprecated and will be removed in a future release. Please use .at[] or .iat[] accessors instead\n",
      "  # Remove the CWD from sys.path while we load stuff.\n",
      "C:\\Users\\stabe\\Anaconda3\\lib\\site-packages\\ipykernel_launcher.py:14: FutureWarning: set_value is deprecated and will be removed in a future release. Please use .at[] or .iat[] accessors instead\n",
      "  \n",
      "C:\\Users\\stabe\\Anaconda3\\lib\\site-packages\\ipykernel_launcher.py:8: FutureWarning: set_value is deprecated and will be removed in a future release. Please use .at[] or .iat[] accessors instead\n",
      "  \n",
      "C:\\Users\\stabe\\Anaconda3\\lib\\site-packages\\ipykernel_launcher.py:26: FutureWarning: set_value is deprecated and will be removed in a future release. Please use .at[] or .iat[] accessors instead\n",
      "C:\\Users\\stabe\\Anaconda3\\lib\\site-packages\\ipykernel_launcher.py:22: FutureWarning: set_value is deprecated and will be removed in a future release. Please use .at[] or .iat[] accessors instead\n"
     ]
    },
    {
     "data": {
      "text/html": [
       "<div>\n",
       "<style scoped>\n",
       "    .dataframe tbody tr th:only-of-type {\n",
       "        vertical-align: middle;\n",
       "    }\n",
       "\n",
       "    .dataframe tbody tr th {\n",
       "        vertical-align: top;\n",
       "    }\n",
       "\n",
       "    .dataframe thead th {\n",
       "        text-align: right;\n",
       "    }\n",
       "</style>\n",
       "<table border=\"1\" class=\"dataframe\">\n",
       "  <thead>\n",
       "    <tr style=\"text-align: right;\">\n",
       "      <th></th>\n",
       "      <th>holiday_name</th>\n",
       "      <th>Average_Price</th>\n",
       "      <th>hol#</th>\n",
       "    </tr>\n",
       "  </thead>\n",
       "  <tbody>\n",
       "    <tr>\n",
       "      <th>6</th>\n",
       "      <td>New Year's Day</td>\n",
       "      <td>175.428571</td>\n",
       "      <td>0</td>\n",
       "    </tr>\n",
       "    <tr>\n",
       "      <th>9</th>\n",
       "      <td>Washington's Birthday</td>\n",
       "      <td>166.470803</td>\n",
       "      <td>0</td>\n",
       "    </tr>\n",
       "    <tr>\n",
       "      <th>4</th>\n",
       "      <td>Martin Luther King, Jr. Day</td>\n",
       "      <td>164.609489</td>\n",
       "      <td>1</td>\n",
       "    </tr>\n",
       "    <tr>\n",
       "      <th>5</th>\n",
       "      <td>Memorial Day</td>\n",
       "      <td>171.620438</td>\n",
       "      <td>3</td>\n",
       "    </tr>\n",
       "    <tr>\n",
       "      <th>2</th>\n",
       "      <td>Independence Day</td>\n",
       "      <td>174.642336</td>\n",
       "      <td>4</td>\n",
       "    </tr>\n",
       "    <tr>\n",
       "      <th>3</th>\n",
       "      <td>Labor Day</td>\n",
       "      <td>173.744526</td>\n",
       "      <td>5</td>\n",
       "    </tr>\n",
       "    <tr>\n",
       "      <th>1</th>\n",
       "      <td>Columbus Day</td>\n",
       "      <td>174.291971</td>\n",
       "      <td>6</td>\n",
       "    </tr>\n",
       "    <tr>\n",
       "      <th>8</th>\n",
       "      <td>Veterans Day</td>\n",
       "      <td>173.766423</td>\n",
       "      <td>7</td>\n",
       "    </tr>\n",
       "    <tr>\n",
       "      <th>7</th>\n",
       "      <td>Thanksgiving</td>\n",
       "      <td>174.572993</td>\n",
       "      <td>9</td>\n",
       "    </tr>\n",
       "    <tr>\n",
       "      <th>0</th>\n",
       "      <td>Christmas Day</td>\n",
       "      <td>174.160584</td>\n",
       "      <td>10</td>\n",
       "    </tr>\n",
       "  </tbody>\n",
       "</table>\n",
       "</div>"
      ],
      "text/plain": [
       "                  holiday_name  Average_Price  hol#\n",
       "6               New Year's Day     175.428571     0\n",
       "9        Washington's Birthday     166.470803     0\n",
       "4  Martin Luther King, Jr. Day     164.609489     1\n",
       "5                 Memorial Day     171.620438     3\n",
       "2             Independence Day     174.642336     4\n",
       "3                    Labor Day     173.744526     5\n",
       "1                 Columbus Day     174.291971     6\n",
       "8                 Veterans Day     173.766423     7\n",
       "7                 Thanksgiving     174.572993     9\n",
       "0                Christmas Day     174.160584    10"
      ]
     },
     "execution_count": 12,
     "metadata": {},
     "output_type": "execute_result"
    }
   ],
   "source": [
    "# Calc Avg Prices for Holidays\n",
    "Hol_df=data_df.groupby('holiday_name').price.mean()\n",
    "Hol_df=Hol_df.reset_index()\n",
    "Hol_df['hol#']=0\n",
    "\n",
    "for index,row in Hol_df.iterrows():\n",
    "    if row['holiday_name']==\"New Year's Day\":\n",
    "        Hol_df.set_value(index,'hol#',0)\n",
    "    if row['holiday_name']=='Martin Luther King, Jr. Day':\n",
    "        Hol_df.set_value(index,'hol#',1)\n",
    "    if row['holiday_name']==\"Presidents Day\":\n",
    "        Hol_df.set_value(index,'hol#',2)\n",
    "    if row['holiday_name']=='Memorial Day':\n",
    "        Hol_df.set_value(index,'hol#',3)\n",
    "    if row['holiday_name']=='Independence Day':\n",
    "        Hol_df.set_value(index,'hol#',4)\n",
    "    if row['holiday_name']=='Labor Day':\n",
    "        Hol_df.set_value(index,'hol#',5)\n",
    "    if row['holiday_name']=='Columbus Day':\n",
    "        Hol_df.set_value(index,'hol#',6)\n",
    "    if row['holiday_name']=='Veterans Day':\n",
    "        Hol_df.set_value(index,'hol#',7)\n",
    "    if row['holiday_name']==\"Veterans Day (Observed)\":\n",
    "        Hol_df.set_value(index,'hol#',8)\n",
    "    if row['holiday_name']=='Thanksgiving':\n",
    "        Hol_df.set_value(index,'hol#',9)\n",
    "    if row['holiday_name']=='Christmas Day':\n",
    "        Hol_df.set_value(index,'hol#',10)\n",
    "Hol_df=Hol_df.sort_values('hol#',ascending=[1])\n",
    "Hol_df=Hol_df.rename(columns={'price':'Average_Price'})\n",
    "Hol_df"
   ]
  },
  {
   "cell_type": "code",
   "execution_count": 13,
   "metadata": {},
   "outputs": [
    {
     "data": {
      "image/png": "[encoded data removed]",
      "text/plain": [
       "<Figure size 1368x576 with 1 Axes>"
      ]
     },
     "metadata": {
      "needs_background": "light"
     },
     "output_type": "display_data"
    }
   ],
   "source": [
    "# Holiday Prices\n",
    "plt.figure(figsize=(19,8))\n",
    "ax = sns.barplot(\"holiday_name\", y=\"Average_Price\", data=Hol_df,color=\"g\")\n",
    "ax.set(xlabel='Holiday', ylabel='Average Price (US$)')\n",
    "plt.xticks(rotation=45)\n",
    "plt.title(\"SF: Average Holiday Prices\")  \n",
    "plt.savefig(\"SF_Holiday_Avgs.png\")"
   ]
  },
  {
   "cell_type": "code",
   "execution_count": null,
   "metadata": {},
   "outputs": [],
   "source": []
  }
 ],
 "metadata": {
  "kernelspec": {
   "display_name": "Python 3",
   "language": "python",
   "name": "python3"
  },
  "language_info": {
   "codemirror_mode": {
    "name": "ipython",
    "version": 3
   },
   "file_extension": ".py",
   "mimetype": "text/x-python",
   "name": "python",
   "nbconvert_exporter": "python",
   "pygments_lexer": "ipython3",
   "version": "3.7.3"
  }
 },
 "nbformat": 4,
 "nbformat_minor": 2
}
