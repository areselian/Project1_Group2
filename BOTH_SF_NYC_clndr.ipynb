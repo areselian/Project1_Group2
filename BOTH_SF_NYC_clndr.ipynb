{
 "cells": [
  {
   "cell_type": "code",
   "execution_count": 20,
   "metadata": {},
   "outputs": [],
   "source": [
    "# Dependencies\n",
    "import gzip\n",
    "import csv\n",
    "import json\n",
    "import pandas as pd\n",
    "import numpy as np\n",
    "import seaborn as sns\n",
    "import matplotlib.pyplot as plt\n",
    "from sklearn import preprocessing\n",
    "%matplotlib inline\n",
    "from datetime import date\n",
    "import datetime\n",
    "import calendar\n",
    "import holidays\n",
    "from pprint import pprint\n",
    "import calmap\n",
    "from pandas.plotting import register_matplotlib_converters\n",
    "register_matplotlib_converters()"
   ]
  },
  {
   "cell_type": "code",
   "execution_count": 21,
   "metadata": {},
   "outputs": [],
   "source": [
    "# Import NYC Data\n",
    "NY_df = pd.read_csv('NYcalendar.csv.gz', nrows=100000, compression='gzip', error_bad_lines=False)\n",
    "# Set Display Options\n",
    "pd.set_option('display.max_rows', 100000)\n",
    "pd.set_option('display.max_columns', 100000)\n",
    "pd.set_option('display.width', 100000)\n",
    "NY_df['City'] = \"NY\""
   ]
  },
  {
   "cell_type": "code",
   "execution_count": 22,
   "metadata": {},
   "outputs": [],
   "source": [
    "# Import Data\n",
    "SF_df = pd.read_csv('SFcalendar.csv.gz', nrows=100000, compression='gzip', error_bad_lines=False)\n",
    "SF_df = SF_df.drop(['adjusted_price', 'minimum_nights', 'maximum_nights'], axis=1)\n",
    "# Set Display Options\n",
    "pd.set_option('display.max_rows', 100000)\n",
    "pd.set_option('display.max_columns', 100000)\n",
    "pd.set_option('display.width', 100000)\n",
    "SF_df['City'] = \"SF\""
   ]
  },
  {
   "cell_type": "code",
   "execution_count": 23,
   "metadata": {},
   "outputs": [
    {
     "name": "stdout",
     "output_type": "stream",
     "text": [
      "<class 'pandas.core.frame.DataFrame'>\n",
      "RangeIndex: 100000 entries, 0 to 99999\n",
      "Data columns (total 8 columns):\n",
      "listing_id        100000 non-null int64\n",
      "date              100000 non-null object\n",
      "available         100000 non-null object\n",
      "price             100000 non-null object\n",
      "adjusted_price    100000 non-null object\n",
      "minimum_nights    100000 non-null int64\n",
      "maximum_nights    100000 non-null int64\n",
      "City              100000 non-null object\n",
      "dtypes: int64(3), object(5)\n",
      "memory usage: 6.1+ MB\n"
     ]
    }
   ],
   "source": [
    "# Current Value Formats\n",
    "NY_df.info()"
   ]
  },
  {
   "cell_type": "code",
   "execution_count": 24,
   "metadata": {},
   "outputs": [
    {
     "name": "stdout",
     "output_type": "stream",
     "text": [
      "<class 'pandas.core.frame.DataFrame'>\n",
      "RangeIndex: 100000 entries, 0 to 99999\n",
      "Data columns (total 5 columns):\n",
      "listing_id    100000 non-null int64\n",
      "date          100000 non-null object\n",
      "available     100000 non-null object\n",
      "price         100000 non-null object\n",
      "City          100000 non-null object\n",
      "dtypes: int64(1), object(4)\n",
      "memory usage: 3.8+ MB\n"
     ]
    }
   ],
   "source": [
    "# Current Value Formats\n",
    "SF_df.info()"
   ]
  },
  {
   "cell_type": "code",
   "execution_count": 25,
   "metadata": {
    "scrolled": true
   },
   "outputs": [
    {
     "name": "stdout",
     "output_type": "stream",
     "text": [
      "<class 'pandas.core.frame.DataFrame'>\n",
      "Int64Index: 100000 entries, 0 to 99999\n",
      "Data columns (total 11 columns):\n",
      "listing_id        100000 non-null int64\n",
      "date              100000 non-null datetime64[ns]\n",
      "available         100000 non-null object\n",
      "price             100000 non-null float64\n",
      "adjusted_price    100000 non-null object\n",
      "minimum_nights    100000 non-null int64\n",
      "maximum_nights    100000 non-null int64\n",
      "City              100000 non-null object\n",
      "year              100000 non-null object\n",
      "month             100000 non-null object\n",
      "day               100000 non-null object\n",
      "dtypes: datetime64[ns](1), float64(1), int64(3), object(6)\n",
      "memory usage: 9.2+ MB\n"
     ]
    }
   ],
   "source": [
    "# Reformat NY Values\n",
    "NY_df=NY_df.dropna()\n",
    "NY_df['price'] = NY_df['price'].map(lambda x: x.lstrip('$'))\n",
    "NY_df['price'] = NY_df['price'].str.replace(',', '')\n",
    "NY_df['year'] = NY_df['date'].str[0:4]\n",
    "NY_df['month'] = NY_df['date'].str[5:7]\n",
    "NY_df['day'] = NY_df['date'].str[8:10]\n",
    "NY_df['date'] = pd.to_datetime(NY_df['date'])\n",
    "NY_df['price'] = pd.to_numeric(NY_df['price'])\n",
    "NY_df.info()"
   ]
  },
  {
   "cell_type": "code",
   "execution_count": 26,
   "metadata": {},
   "outputs": [
    {
     "name": "stdout",
     "output_type": "stream",
     "text": [
      "<class 'pandas.core.frame.DataFrame'>\n",
      "Int64Index: 100000 entries, 0 to 99999\n",
      "Data columns (total 8 columns):\n",
      "listing_id    100000 non-null int64\n",
      "date          100000 non-null datetime64[ns]\n",
      "available     100000 non-null object\n",
      "price         100000 non-null float64\n",
      "City          100000 non-null object\n",
      "year          100000 non-null object\n",
      "month         100000 non-null object\n",
      "day           100000 non-null object\n",
      "dtypes: datetime64[ns](1), float64(1), int64(1), object(5)\n",
      "memory usage: 6.9+ MB\n"
     ]
    }
   ],
   "source": [
    "# Reformat SF Values\n",
    "SF_df=SF_df.dropna()\n",
    "SF_df['price'] = SF_df['price'].map(lambda x: x.lstrip('$'))\n",
    "SF_df['price'] = SF_df['price'].str.replace(',', '')\n",
    "SF_df['year'] = SF_df['date'].str[0:4]\n",
    "SF_df['month'] = SF_df['date'].str[5:7]\n",
    "SF_df['day'] = SF_df['date'].str[8:10]\n",
    "SF_df['date'] = pd.to_datetime(SF_df['date'])\n",
    "SF_df['price'] = pd.to_numeric(SF_df['price'])\n",
    "SF_df.info()"
   ]
  },
  {
   "cell_type": "code",
   "execution_count": 27,
   "metadata": {},
   "outputs": [
    {
     "name": "stderr",
     "output_type": "stream",
     "text": [
      "C:\\Users\\stabe\\Anaconda3\\lib\\site-packages\\pandas\\core\\frame.py:6692: FutureWarning: Sorting because non-concatenation axis is not aligned. A future version\n",
      "of pandas will change to not sort by default.\n",
      "\n",
      "To accept the future behavior, pass 'sort=False'.\n",
      "\n",
      "To retain the current behavior and silence the warning, pass 'sort=True'.\n",
      "\n",
      "  sort=sort)\n"
     ]
    },
    {
     "name": "stdout",
     "output_type": "stream",
     "text": [
      "<class 'pandas.core.frame.DataFrame'>\n",
      "Int64Index: 200000 entries, 0 to 99999\n",
      "Data columns (total 11 columns):\n",
      "City              200000 non-null object\n",
      "adjusted_price    100000 non-null object\n",
      "available         200000 non-null object\n",
      "date              200000 non-null datetime64[ns]\n",
      "day               200000 non-null object\n",
      "listing_id        200000 non-null int64\n",
      "maximum_nights    100000 non-null float64\n",
      "minimum_nights    100000 non-null float64\n",
      "month             200000 non-null object\n",
      "price             200000 non-null float64\n",
      "year              200000 non-null object\n",
      "dtypes: datetime64[ns](1), float64(3), int64(1), object(6)\n",
      "memory usage: 18.3+ MB\n"
     ]
    }
   ],
   "source": [
    "joined_df = NY_df.append(SF_df)\n",
    "joined_df.info()"
   ]
  },
  {
   "cell_type": "code",
   "execution_count": 28,
   "metadata": {},
   "outputs": [
    {
     "name": "stderr",
     "output_type": "stream",
     "text": [
      "C:\\Users\\stabe\\Anaconda3\\lib\\site-packages\\ipykernel_launcher.py:9: FutureWarning: set_value is deprecated and will be removed in a future release. Please use .at[] or .iat[] accessors instead\n",
      "  if __name__ == '__main__':\n",
      "C:\\Users\\stabe\\Anaconda3\\lib\\site-packages\\ipykernel_launcher.py:10: FutureWarning: set_value is deprecated and will be removed in a future release. Please use .at[] or .iat[] accessors instead\n",
      "  # Remove the CWD from sys.path while we load stuff.\n",
      "C:\\Users\\stabe\\Anaconda3\\lib\\site-packages\\ipykernel_launcher.py:11: FutureWarning: set_value is deprecated and will be removed in a future release. Please use .at[] or .iat[] accessors instead\n",
      "  # This is added back by InteractiveShellApp.init_path()\n"
     ]
    }
   ],
   "source": [
    "# NY_ID Day of Week and Holidays\n",
    "us_holidays = holidays.US()\n",
    "NY_df['dayofweek']='default'\n",
    "NY_df['holiday']='False'\n",
    "NY_df['holiday_name']='working'\n",
    "for index,row in NY_df.iterrows():\n",
    "    sdate = datetime.date(int(row['year']),int(row['month']),int(row['day']))\n",
    "    vall=date(int(row['year']),int(row['month']),int(row['day'])) in us_holidays\n",
    "    NY_df.set_value(index,'dayofweek', calendar.day_name[sdate.weekday()])\n",
    "    NY_df.set_value(index,'holiday',vall)\n",
    "    NY_df.set_value(index,'holiday_name',us_holidays.get(sdate))"
   ]
  },
  {
   "cell_type": "code",
   "execution_count": 29,
   "metadata": {},
   "outputs": [
    {
     "name": "stderr",
     "output_type": "stream",
     "text": [
      "C:\\Users\\stabe\\Anaconda3\\lib\\site-packages\\ipykernel_launcher.py:9: FutureWarning: set_value is deprecated and will be removed in a future release. Please use .at[] or .iat[] accessors instead\n",
      "  if __name__ == '__main__':\n",
      "C:\\Users\\stabe\\Anaconda3\\lib\\site-packages\\ipykernel_launcher.py:10: FutureWarning: set_value is deprecated and will be removed in a future release. Please use .at[] or .iat[] accessors instead\n",
      "  # Remove the CWD from sys.path while we load stuff.\n",
      "C:\\Users\\stabe\\Anaconda3\\lib\\site-packages\\ipykernel_launcher.py:11: FutureWarning: set_value is deprecated and will be removed in a future release. Please use .at[] or .iat[] accessors instead\n",
      "  # This is added back by InteractiveShellApp.init_path()\n"
     ]
    }
   ],
   "source": [
    "# SF_ID Day of Week and Holidays\n",
    "us_holidays = holidays.US()\n",
    "SF_df['dayofweek']='default'\n",
    "SF_df['holiday']='False'\n",
    "SF_df['holiday_name']='working'\n",
    "for index,row in SF_df.iterrows():\n",
    "    sdate = datetime.date(int(row['year']),int(row['month']),int(row['day']))\n",
    "    vall=date(int(row['year']),int(row['month']),int(row['day'])) in us_holidays\n",
    "    SF_df.set_value(index,'dayofweek', calendar.day_name[sdate.weekday()])\n",
    "    SF_df.set_value(index,'holiday',vall)\n",
    "    SF_df.set_value(index,'holiday_name',us_holidays.get(sdate))"
   ]
  },
  {
   "cell_type": "code",
   "execution_count": 30,
   "metadata": {},
   "outputs": [
    {
     "name": "stderr",
     "output_type": "stream",
     "text": [
      "C:\\Users\\stabe\\Anaconda3\\lib\\site-packages\\ipykernel_launcher.py:16: FutureWarning: set_value is deprecated and will be removed in a future release. Please use .at[] or .iat[] accessors instead\n",
      "  app.launch_new_instance()\n",
      "C:\\Users\\stabe\\Anaconda3\\lib\\site-packages\\ipykernel_launcher.py:8: FutureWarning: set_value is deprecated and will be removed in a future release. Please use .at[] or .iat[] accessors instead\n",
      "  \n",
      "C:\\Users\\stabe\\Anaconda3\\lib\\site-packages\\ipykernel_launcher.py:18: FutureWarning: set_value is deprecated and will be removed in a future release. Please use .at[] or .iat[] accessors instead\n",
      "C:\\Users\\stabe\\Anaconda3\\lib\\site-packages\\ipykernel_launcher.py:20: FutureWarning: set_value is deprecated and will be removed in a future release. Please use .at[] or .iat[] accessors instead\n",
      "C:\\Users\\stabe\\Anaconda3\\lib\\site-packages\\ipykernel_launcher.py:14: FutureWarning: set_value is deprecated and will be removed in a future release. Please use .at[] or .iat[] accessors instead\n",
      "  \n",
      "C:\\Users\\stabe\\Anaconda3\\lib\\site-packages\\ipykernel_launcher.py:10: FutureWarning: set_value is deprecated and will be removed in a future release. Please use .at[] or .iat[] accessors instead\n",
      "  # Remove the CWD from sys.path while we load stuff.\n",
      "C:\\Users\\stabe\\Anaconda3\\lib\\site-packages\\ipykernel_launcher.py:12: FutureWarning: set_value is deprecated and will be removed in a future release. Please use .at[] or .iat[] accessors instead\n",
      "  if sys.path[0] == '':\n"
     ]
    },
    {
     "data": {
      "text/html": [
       "<div>\n",
       "<style scoped>\n",
       "    .dataframe tbody tr th:only-of-type {\n",
       "        vertical-align: middle;\n",
       "    }\n",
       "\n",
       "    .dataframe tbody tr th {\n",
       "        vertical-align: top;\n",
       "    }\n",
       "\n",
       "    .dataframe thead th {\n",
       "        text-align: right;\n",
       "    }\n",
       "</style>\n",
       "<table border=\"1\" class=\"dataframe\">\n",
       "  <thead>\n",
       "    <tr style=\"text-align: right;\">\n",
       "      <th></th>\n",
       "      <th>dayofweek</th>\n",
       "      <th>City</th>\n",
       "      <th>Average_Price</th>\n",
       "      <th>day#</th>\n",
       "    </tr>\n",
       "  </thead>\n",
       "  <tbody>\n",
       "    <tr>\n",
       "      <th>1</th>\n",
       "      <td>Monday</td>\n",
       "      <td>NY</td>\n",
       "      <td>149.153096</td>\n",
       "      <td>1</td>\n",
       "    </tr>\n",
       "    <tr>\n",
       "      <th>5</th>\n",
       "      <td>Tuesday</td>\n",
       "      <td>NY</td>\n",
       "      <td>149.213393</td>\n",
       "      <td>2</td>\n",
       "    </tr>\n",
       "    <tr>\n",
       "      <th>6</th>\n",
       "      <td>Wednesday</td>\n",
       "      <td>NY</td>\n",
       "      <td>149.073342</td>\n",
       "      <td>3</td>\n",
       "    </tr>\n",
       "    <tr>\n",
       "      <th>4</th>\n",
       "      <td>Thursday</td>\n",
       "      <td>NY</td>\n",
       "      <td>149.098687</td>\n",
       "      <td>4</td>\n",
       "    </tr>\n",
       "    <tr>\n",
       "      <th>0</th>\n",
       "      <td>Friday</td>\n",
       "      <td>NY</td>\n",
       "      <td>151.596827</td>\n",
       "      <td>5</td>\n",
       "    </tr>\n",
       "  </tbody>\n",
       "</table>\n",
       "</div>"
      ],
      "text/plain": [
       "   dayofweek City  Average_Price  day#\n",
       "1     Monday   NY     149.153096     1\n",
       "5    Tuesday   NY     149.213393     2\n",
       "6  Wednesday   NY     149.073342     3\n",
       "4   Thursday   NY     149.098687     4\n",
       "0     Friday   NY     151.596827     5"
      ]
     },
     "execution_count": 30,
     "metadata": {},
     "output_type": "execute_result"
    }
   ],
   "source": [
    "#### Calc Avg Prices for NY_DoW\n",
    "NY_DoW_df=NY_df.groupby(['dayofweek', 'City']).price.mean()\n",
    "NY_DoW_df=NY_DoW_df.reset_index()\n",
    "NY_DoW_df['day#']=0\n",
    "\n",
    "for index,row in NY_DoW_df.iterrows():\n",
    "    if row['dayofweek']=='Monday':\n",
    "        NY_DoW_df.set_value(index,'day#',1)\n",
    "    if row['dayofweek']=='Tuesday':\n",
    "        NY_DoW_df.set_value(index,'day#',2)\n",
    "    if row['dayofweek']=='Wednesday':\n",
    "        NY_DoW_df.set_value(index,'day#',3)\n",
    "    if row['dayofweek']=='Thursday':\n",
    "        NY_DoW_df.set_value(index,'day#',4)\n",
    "    if row['dayofweek']=='Friday':\n",
    "        NY_DoW_df.set_value(index,'day#',5)\n",
    "    if row['dayofweek']=='Saturday':\n",
    "        NY_DoW_df.set_value(index,'day#',6)\n",
    "    if row['dayofweek']=='Sunday':\n",
    "        NY_DoW_df.set_value(index,'day#',7)\n",
    "NY_DoW_df=NY_DoW_df.sort_values('day#',ascending=[1])\n",
    "NY_DoW_df=NY_DoW_df.rename(columns={'price':'Average_Price'})\n",
    "NY_DoW_df.head()"
   ]
  },
  {
   "cell_type": "code",
   "execution_count": 31,
   "metadata": {},
   "outputs": [
    {
     "name": "stderr",
     "output_type": "stream",
     "text": [
      "C:\\Users\\stabe\\Anaconda3\\lib\\site-packages\\ipykernel_launcher.py:16: FutureWarning: set_value is deprecated and will be removed in a future release. Please use .at[] or .iat[] accessors instead\n",
      "  app.launch_new_instance()\n",
      "C:\\Users\\stabe\\Anaconda3\\lib\\site-packages\\ipykernel_launcher.py:8: FutureWarning: set_value is deprecated and will be removed in a future release. Please use .at[] or .iat[] accessors instead\n",
      "  \n",
      "C:\\Users\\stabe\\Anaconda3\\lib\\site-packages\\ipykernel_launcher.py:18: FutureWarning: set_value is deprecated and will be removed in a future release. Please use .at[] or .iat[] accessors instead\n",
      "C:\\Users\\stabe\\Anaconda3\\lib\\site-packages\\ipykernel_launcher.py:20: FutureWarning: set_value is deprecated and will be removed in a future release. Please use .at[] or .iat[] accessors instead\n",
      "C:\\Users\\stabe\\Anaconda3\\lib\\site-packages\\ipykernel_launcher.py:14: FutureWarning: set_value is deprecated and will be removed in a future release. Please use .at[] or .iat[] accessors instead\n",
      "  \n",
      "C:\\Users\\stabe\\Anaconda3\\lib\\site-packages\\ipykernel_launcher.py:10: FutureWarning: set_value is deprecated and will be removed in a future release. Please use .at[] or .iat[] accessors instead\n",
      "  # Remove the CWD from sys.path while we load stuff.\n",
      "C:\\Users\\stabe\\Anaconda3\\lib\\site-packages\\ipykernel_launcher.py:12: FutureWarning: set_value is deprecated and will be removed in a future release. Please use .at[] or .iat[] accessors instead\n",
      "  if sys.path[0] == '':\n"
     ]
    },
    {
     "data": {
      "text/html": [
       "<div>\n",
       "<style scoped>\n",
       "    .dataframe tbody tr th:only-of-type {\n",
       "        vertical-align: middle;\n",
       "    }\n",
       "\n",
       "    .dataframe tbody tr th {\n",
       "        vertical-align: top;\n",
       "    }\n",
       "\n",
       "    .dataframe thead th {\n",
       "        text-align: right;\n",
       "    }\n",
       "</style>\n",
       "<table border=\"1\" class=\"dataframe\">\n",
       "  <thead>\n",
       "    <tr style=\"text-align: right;\">\n",
       "      <th></th>\n",
       "      <th>dayofweek</th>\n",
       "      <th>City</th>\n",
       "      <th>Average_Price</th>\n",
       "      <th>day#</th>\n",
       "    </tr>\n",
       "  </thead>\n",
       "  <tbody>\n",
       "    <tr>\n",
       "      <th>1</th>\n",
       "      <td>Monday</td>\n",
       "      <td>SF</td>\n",
       "      <td>171.498386</td>\n",
       "      <td>1</td>\n",
       "    </tr>\n",
       "    <tr>\n",
       "      <th>5</th>\n",
       "      <td>Tuesday</td>\n",
       "      <td>SF</td>\n",
       "      <td>171.587814</td>\n",
       "      <td>2</td>\n",
       "    </tr>\n",
       "    <tr>\n",
       "      <th>6</th>\n",
       "      <td>Wednesday</td>\n",
       "      <td>SF</td>\n",
       "      <td>171.660423</td>\n",
       "      <td>3</td>\n",
       "    </tr>\n",
       "    <tr>\n",
       "      <th>4</th>\n",
       "      <td>Thursday</td>\n",
       "      <td>SF</td>\n",
       "      <td>171.631150</td>\n",
       "      <td>4</td>\n",
       "    </tr>\n",
       "    <tr>\n",
       "      <th>0</th>\n",
       "      <td>Friday</td>\n",
       "      <td>SF</td>\n",
       "      <td>174.627430</td>\n",
       "      <td>5</td>\n",
       "    </tr>\n",
       "  </tbody>\n",
       "</table>\n",
       "</div>"
      ],
      "text/plain": [
       "   dayofweek City  Average_Price  day#\n",
       "1     Monday   SF     171.498386     1\n",
       "5    Tuesday   SF     171.587814     2\n",
       "6  Wednesday   SF     171.660423     3\n",
       "4   Thursday   SF     171.631150     4\n",
       "0     Friday   SF     174.627430     5"
      ]
     },
     "execution_count": 31,
     "metadata": {},
     "output_type": "execute_result"
    }
   ],
   "source": [
    "#### Calc Avg Prices for SF_DoW\n",
    "SF_DoW_df=SF_df.groupby(['dayofweek', 'City']).price.mean()\n",
    "SF_DoW_df=SF_DoW_df.reset_index()\n",
    "SF_DoW_df['day#']=0\n",
    "\n",
    "for index,row in SF_DoW_df.iterrows():\n",
    "    if row['dayofweek']=='Monday':\n",
    "        SF_DoW_df.set_value(index,'day#',1)\n",
    "    if row['dayofweek']=='Tuesday':\n",
    "        SF_DoW_df.set_value(index,'day#',2)\n",
    "    if row['dayofweek']=='Wednesday':\n",
    "        SF_DoW_df.set_value(index,'day#',3)\n",
    "    if row['dayofweek']=='Thursday':\n",
    "        SF_DoW_df.set_value(index,'day#',4)\n",
    "    if row['dayofweek']=='Friday':\n",
    "        SF_DoW_df.set_value(index,'day#',5)\n",
    "    if row['dayofweek']=='Saturday':\n",
    "        SF_DoW_df.set_value(index,'day#',6)\n",
    "    if row['dayofweek']=='Sunday':\n",
    "        SF_DoW_df.set_value(index,'day#',7)\n",
    "SF_DoW_df=SF_DoW_df.sort_values('day#',ascending=[1])\n",
    "SF_DoW_df=SF_DoW_df.rename(columns={'price':'Average_Price'})\n",
    "SF_DoW_df.head()"
   ]
  },
  {
   "cell_type": "code",
   "execution_count": 32,
   "metadata": {},
   "outputs": [
    {
     "name": "stderr",
     "output_type": "stream",
     "text": [
      "C:\\Users\\stabe\\Anaconda3\\lib\\site-packages\\seaborn\\categorical.py:3666: UserWarning: The `factorplot` function has been renamed to `catplot`. The original name will be removed in a future release. Please update your code. Note that the default `kind` in `factorplot` (`'point'`) has changed `'strip'` in `catplot`.\n",
      "  warnings.warn(msg)\n",
      "C:\\Users\\stabe\\Anaconda3\\lib\\site-packages\\seaborn\\categorical.py:3672: UserWarning: The `size` paramter has been renamed to `height`; please update your code.\n",
      "  warnings.warn(msg, UserWarning)\n"
     ]
    },
    {
     "data": {
      "text/plain": [
       "<Figure size 3600x1440 with 0 Axes>"
      ]
     },
     "metadata": {},
     "output_type": "display_data"
    },
    {
     "data": {
      "image/png": "[encoded data removed]",
      "text/plain": [
       "<Figure size 913.5x288 with 1 Axes>"
      ]
     },
     "metadata": {
      "needs_background": "light"
     },
     "output_type": "display_data"
    }
   ],
   "source": [
    "joined_df = SF_DoW_df.append(NY_DoW_df)\n",
    "plt.figure(figsize=(50,20))\n",
    "ax=sns.factorplot(x='dayofweek', y='Average_Price', hue='City', data=joined_df, kind='bar', palette=[\"g\",\"b\"], size=4, aspect=3)\n",
    "ax.set(xlabel='Day Of Week', ylabel='Average Price (US$)')\n",
    "ax.set_xticklabels(rotation=30)\n",
    "plt.title(\"NYC and SF Average Prices: Days Of Week\") \n",
    "plt.savefig(\"Average Day Of Week Prices.png\", bbox_inches='tight')\n",
    "\n"
   ]
  },
  {
   "cell_type": "code",
   "execution_count": 33,
   "metadata": {},
   "outputs": [
    {
     "name": "stderr",
     "output_type": "stream",
     "text": [
      "C:\\Users\\stabe\\Anaconda3\\lib\\site-packages\\ipykernel_launcher.py:28: FutureWarning: set_value is deprecated and will be removed in a future release. Please use .at[] or .iat[] accessors instead\n",
      "C:\\Users\\stabe\\Anaconda3\\lib\\site-packages\\ipykernel_launcher.py:20: FutureWarning: set_value is deprecated and will be removed in a future release. Please use .at[] or .iat[] accessors instead\n",
      "C:\\Users\\stabe\\Anaconda3\\lib\\site-packages\\ipykernel_launcher.py:16: FutureWarning: set_value is deprecated and will be removed in a future release. Please use .at[] or .iat[] accessors instead\n",
      "  app.launch_new_instance()\n",
      "C:\\Users\\stabe\\Anaconda3\\lib\\site-packages\\ipykernel_launcher.py:18: FutureWarning: set_value is deprecated and will be removed in a future release. Please use .at[] or .iat[] accessors instead\n",
      "C:\\Users\\stabe\\Anaconda3\\lib\\site-packages\\ipykernel_launcher.py:10: FutureWarning: set_value is deprecated and will be removed in a future release. Please use .at[] or .iat[] accessors instead\n",
      "  # Remove the CWD from sys.path while we load stuff.\n",
      "C:\\Users\\stabe\\Anaconda3\\lib\\site-packages\\ipykernel_launcher.py:14: FutureWarning: set_value is deprecated and will be removed in a future release. Please use .at[] or .iat[] accessors instead\n",
      "  \n",
      "C:\\Users\\stabe\\Anaconda3\\lib\\site-packages\\ipykernel_launcher.py:8: FutureWarning: set_value is deprecated and will be removed in a future release. Please use .at[] or .iat[] accessors instead\n",
      "  \n",
      "C:\\Users\\stabe\\Anaconda3\\lib\\site-packages\\ipykernel_launcher.py:26: FutureWarning: set_value is deprecated and will be removed in a future release. Please use .at[] or .iat[] accessors instead\n",
      "C:\\Users\\stabe\\Anaconda3\\lib\\site-packages\\ipykernel_launcher.py:22: FutureWarning: set_value is deprecated and will be removed in a future release. Please use .at[] or .iat[] accessors instead\n"
     ]
    },
    {
     "data": {
      "text/html": [
       "<div>\n",
       "<style scoped>\n",
       "    .dataframe tbody tr th:only-of-type {\n",
       "        vertical-align: middle;\n",
       "    }\n",
       "\n",
       "    .dataframe tbody tr th {\n",
       "        vertical-align: top;\n",
       "    }\n",
       "\n",
       "    .dataframe thead th {\n",
       "        text-align: right;\n",
       "    }\n",
       "</style>\n",
       "<table border=\"1\" class=\"dataframe\">\n",
       "  <thead>\n",
       "    <tr style=\"text-align: right;\">\n",
       "      <th></th>\n",
       "      <th>holiday_name</th>\n",
       "      <th>City</th>\n",
       "      <th>Average_Price</th>\n",
       "      <th>hol#</th>\n",
       "    </tr>\n",
       "  </thead>\n",
       "  <tbody>\n",
       "    <tr>\n",
       "      <th>6</th>\n",
       "      <td>New Year's Day</td>\n",
       "      <td>NY</td>\n",
       "      <td>152.329670</td>\n",
       "      <td>0</td>\n",
       "    </tr>\n",
       "    <tr>\n",
       "      <th>9</th>\n",
       "      <td>Washington's Birthday</td>\n",
       "      <td>NY</td>\n",
       "      <td>141.127737</td>\n",
       "      <td>0</td>\n",
       "    </tr>\n",
       "    <tr>\n",
       "      <th>4</th>\n",
       "      <td>Martin Luther King, Jr. Day</td>\n",
       "      <td>NY</td>\n",
       "      <td>139.076642</td>\n",
       "      <td>1</td>\n",
       "    </tr>\n",
       "    <tr>\n",
       "      <th>5</th>\n",
       "      <td>Memorial Day</td>\n",
       "      <td>NY</td>\n",
       "      <td>150.248175</td>\n",
       "      <td>3</td>\n",
       "    </tr>\n",
       "    <tr>\n",
       "      <th>2</th>\n",
       "      <td>Independence Day</td>\n",
       "      <td>NY</td>\n",
       "      <td>150.335766</td>\n",
       "      <td>4</td>\n",
       "    </tr>\n",
       "    <tr>\n",
       "      <th>3</th>\n",
       "      <td>Labor Day</td>\n",
       "      <td>NY</td>\n",
       "      <td>152.726277</td>\n",
       "      <td>5</td>\n",
       "    </tr>\n",
       "    <tr>\n",
       "      <th>1</th>\n",
       "      <td>Columbus Day</td>\n",
       "      <td>NY</td>\n",
       "      <td>152.149635</td>\n",
       "      <td>6</td>\n",
       "    </tr>\n",
       "    <tr>\n",
       "      <th>8</th>\n",
       "      <td>Veterans Day</td>\n",
       "      <td>NY</td>\n",
       "      <td>151.686131</td>\n",
       "      <td>7</td>\n",
       "    </tr>\n",
       "    <tr>\n",
       "      <th>7</th>\n",
       "      <td>Thanksgiving</td>\n",
       "      <td>NY</td>\n",
       "      <td>151.959854</td>\n",
       "      <td>8</td>\n",
       "    </tr>\n",
       "    <tr>\n",
       "      <th>0</th>\n",
       "      <td>Christmas Day</td>\n",
       "      <td>NY</td>\n",
       "      <td>151.915751</td>\n",
       "      <td>9</td>\n",
       "    </tr>\n",
       "  </tbody>\n",
       "</table>\n",
       "</div>"
      ],
      "text/plain": [
       "                  holiday_name City  Average_Price  hol#\n",
       "6               New Year's Day   NY     152.329670     0\n",
       "9        Washington's Birthday   NY     141.127737     0\n",
       "4  Martin Luther King, Jr. Day   NY     139.076642     1\n",
       "5                 Memorial Day   NY     150.248175     3\n",
       "2             Independence Day   NY     150.335766     4\n",
       "3                    Labor Day   NY     152.726277     5\n",
       "1                 Columbus Day   NY     152.149635     6\n",
       "8                 Veterans Day   NY     151.686131     7\n",
       "7                 Thanksgiving   NY     151.959854     8\n",
       "0                Christmas Day   NY     151.915751     9"
      ]
     },
     "execution_count": 33,
     "metadata": {},
     "output_type": "execute_result"
    }
   ],
   "source": [
    "# Calc Avg Prices for Holidays\n",
    "NY_df=NY_df.groupby(['holiday_name', 'City']).price.mean()\n",
    "NY_df=NY_df.reset_index()\n",
    "NY_df['hol#']=0\n",
    "\n",
    "for index,row in NY_df.iterrows():\n",
    "    if row['holiday_name']==\"New Year's Day\":\n",
    "        NY_df.set_value(index,'hol#',0)\n",
    "    if row['holiday_name']=='Martin Luther King, Jr. Day':\n",
    "        NY_df.set_value(index,'hol#',1)\n",
    "    if row['holiday_name']==\"Presidents Day\":\n",
    "        NY_df.set_value(index,'hol#',2)\n",
    "    if row['holiday_name']=='Memorial Day':\n",
    "        NY_df.set_value(index,'hol#',3)\n",
    "    if row['holiday_name']=='Independence Day':\n",
    "        NY_df.set_value(index,'hol#',4)\n",
    "    if row['holiday_name']=='Labor Day':\n",
    "        NY_df.set_value(index,'hol#',5)\n",
    "    if row['holiday_name']=='Columbus Day':\n",
    "        NY_df.set_value(index,'hol#',6)\n",
    "    if row['holiday_name']=='Veterans Day':\n",
    "        NY_df.set_value(index,'hol#',7)\n",
    "#    if row['holiday_name']==\"Veterans Day (Observed)\":\n",
    "#        NY_df.set_value(index,'hol#',8)\n",
    "    if row['holiday_name']=='Thanksgiving':\n",
    "        NY_df.set_value(index,'hol#',8)\n",
    "    if row['holiday_name']=='Christmas Day':\n",
    "        NY_df.set_value(index,'hol#',9)\n",
    "NY_df=NY_df.sort_values('hol#',ascending=[1])\n",
    "NY_df=NY_df.rename(columns={'price':'Average_Price'})\n",
    "NY_df"
   ]
  },
  {
   "cell_type": "code",
   "execution_count": 34,
   "metadata": {},
   "outputs": [
    {
     "name": "stderr",
     "output_type": "stream",
     "text": [
      "C:\\Users\\stabe\\Anaconda3\\lib\\site-packages\\ipykernel_launcher.py:28: FutureWarning: set_value is deprecated and will be removed in a future release. Please use .at[] or .iat[] accessors instead\n",
      "C:\\Users\\stabe\\Anaconda3\\lib\\site-packages\\ipykernel_launcher.py:20: FutureWarning: set_value is deprecated and will be removed in a future release. Please use .at[] or .iat[] accessors instead\n",
      "C:\\Users\\stabe\\Anaconda3\\lib\\site-packages\\ipykernel_launcher.py:16: FutureWarning: set_value is deprecated and will be removed in a future release. Please use .at[] or .iat[] accessors instead\n",
      "  app.launch_new_instance()\n",
      "C:\\Users\\stabe\\Anaconda3\\lib\\site-packages\\ipykernel_launcher.py:18: FutureWarning: set_value is deprecated and will be removed in a future release. Please use .at[] or .iat[] accessors instead\n",
      "C:\\Users\\stabe\\Anaconda3\\lib\\site-packages\\ipykernel_launcher.py:10: FutureWarning: set_value is deprecated and will be removed in a future release. Please use .at[] or .iat[] accessors instead\n",
      "  # Remove the CWD from sys.path while we load stuff.\n",
      "C:\\Users\\stabe\\Anaconda3\\lib\\site-packages\\ipykernel_launcher.py:14: FutureWarning: set_value is deprecated and will be removed in a future release. Please use .at[] or .iat[] accessors instead\n",
      "  \n",
      "C:\\Users\\stabe\\Anaconda3\\lib\\site-packages\\ipykernel_launcher.py:26: FutureWarning: set_value is deprecated and will be removed in a future release. Please use .at[] or .iat[] accessors instead\n",
      "C:\\Users\\stabe\\Anaconda3\\lib\\site-packages\\ipykernel_launcher.py:22: FutureWarning: set_value is deprecated and will be removed in a future release. Please use .at[] or .iat[] accessors instead\n"
     ]
    },
    {
     "data": {
      "text/html": [
       "<div>\n",
       "<style scoped>\n",
       "    .dataframe tbody tr th:only-of-type {\n",
       "        vertical-align: middle;\n",
       "    }\n",
       "\n",
       "    .dataframe tbody tr th {\n",
       "        vertical-align: top;\n",
       "    }\n",
       "\n",
       "    .dataframe thead th {\n",
       "        text-align: right;\n",
       "    }\n",
       "</style>\n",
       "<table border=\"1\" class=\"dataframe\">\n",
       "  <thead>\n",
       "    <tr style=\"text-align: right;\">\n",
       "      <th></th>\n",
       "      <th>holiday_name</th>\n",
       "      <th>City</th>\n",
       "      <th>Average_Price</th>\n",
       "      <th>hol#</th>\n",
       "    </tr>\n",
       "  </thead>\n",
       "  <tbody>\n",
       "    <tr>\n",
       "      <th>6</th>\n",
       "      <td>New Year's Day</td>\n",
       "      <td>SF</td>\n",
       "      <td>175.428571</td>\n",
       "      <td>0</td>\n",
       "    </tr>\n",
       "    <tr>\n",
       "      <th>9</th>\n",
       "      <td>Washington's Birthday</td>\n",
       "      <td>SF</td>\n",
       "      <td>166.470803</td>\n",
       "      <td>0</td>\n",
       "    </tr>\n",
       "    <tr>\n",
       "      <th>4</th>\n",
       "      <td>Martin Luther King, Jr. Day</td>\n",
       "      <td>SF</td>\n",
       "      <td>164.609489</td>\n",
       "      <td>1</td>\n",
       "    </tr>\n",
       "    <tr>\n",
       "      <th>5</th>\n",
       "      <td>Memorial Day</td>\n",
       "      <td>SF</td>\n",
       "      <td>171.620438</td>\n",
       "      <td>3</td>\n",
       "    </tr>\n",
       "    <tr>\n",
       "      <th>2</th>\n",
       "      <td>Independence Day</td>\n",
       "      <td>SF</td>\n",
       "      <td>174.642336</td>\n",
       "      <td>4</td>\n",
       "    </tr>\n",
       "    <tr>\n",
       "      <th>3</th>\n",
       "      <td>Labor Day</td>\n",
       "      <td>SF</td>\n",
       "      <td>173.744526</td>\n",
       "      <td>5</td>\n",
       "    </tr>\n",
       "    <tr>\n",
       "      <th>1</th>\n",
       "      <td>Columbus Day</td>\n",
       "      <td>SF</td>\n",
       "      <td>174.291971</td>\n",
       "      <td>6</td>\n",
       "    </tr>\n",
       "    <tr>\n",
       "      <th>8</th>\n",
       "      <td>Veterans Day</td>\n",
       "      <td>SF</td>\n",
       "      <td>173.766423</td>\n",
       "      <td>7</td>\n",
       "    </tr>\n",
       "    <tr>\n",
       "      <th>7</th>\n",
       "      <td>Thanksgiving</td>\n",
       "      <td>SF</td>\n",
       "      <td>174.572993</td>\n",
       "      <td>9</td>\n",
       "    </tr>\n",
       "    <tr>\n",
       "      <th>0</th>\n",
       "      <td>Christmas Day</td>\n",
       "      <td>SF</td>\n",
       "      <td>174.160584</td>\n",
       "      <td>10</td>\n",
       "    </tr>\n",
       "  </tbody>\n",
       "</table>\n",
       "</div>"
      ],
      "text/plain": [
       "                  holiday_name City  Average_Price  hol#\n",
       "6               New Year's Day   SF     175.428571     0\n",
       "9        Washington's Birthday   SF     166.470803     0\n",
       "4  Martin Luther King, Jr. Day   SF     164.609489     1\n",
       "5                 Memorial Day   SF     171.620438     3\n",
       "2             Independence Day   SF     174.642336     4\n",
       "3                    Labor Day   SF     173.744526     5\n",
       "1                 Columbus Day   SF     174.291971     6\n",
       "8                 Veterans Day   SF     173.766423     7\n",
       "7                 Thanksgiving   SF     174.572993     9\n",
       "0                Christmas Day   SF     174.160584    10"
      ]
     },
     "execution_count": 34,
     "metadata": {},
     "output_type": "execute_result"
    }
   ],
   "source": [
    "# Calc Avg Prices for Holidays\n",
    "SF_df=SF_df.groupby(['holiday_name', 'City']).price.mean()\n",
    "SF_df=SF_df.reset_index()\n",
    "SF_df['hol#']=0\n",
    "\n",
    "for index,row in SF_df.iterrows():\n",
    "    if row['holiday_name']==\"New Years\":\n",
    "        SF_df.set_value(index,'hol#',0)\n",
    "    if row['holiday_name']=='Martin Luther King, Jr. Day':\n",
    "        SF_df.set_value(index,'hol#',1)\n",
    "    if row['holiday_name']==\"Presidents Day\":\n",
    "        SF_df.set_value(index,'hol#',2)\n",
    "    if row['holiday_name']=='Memorial Day':\n",
    "        SF_df.set_value(index,'hol#',3)\n",
    "    if row['holiday_name']=='Independence Day':\n",
    "        SF_df.set_value(index,'hol#',4)\n",
    "    if row['holiday_name']=='Labor Day':\n",
    "        SF_df.set_value(index,'hol#',5)\n",
    "    if row['holiday_name']=='Columbus Day':\n",
    "        SF_df.set_value(index,'hol#',6)\n",
    "    if row['holiday_name']=='Veterans Day':\n",
    "        SF_df.set_value(index,'hol#',7)\n",
    "    if row['holiday_name']==\"Veterans Day (Observed)\":\n",
    "        SF_df.set_value(index,'hol#',8)\n",
    "    if row['holiday_name']=='Thanksgiving':\n",
    "        SF_df.set_value(index,'hol#',9)\n",
    "    if row['holiday_name']=='Christmas Day':\n",
    "        SF_df.set_value(index,'hol#',10)\n",
    "SF_df=SF_df.sort_values('hol#',ascending=[1])\n",
    "SF_df=SF_df.rename(columns={'price':'Average_Price'})\n",
    "SF_df"
   ]
  },
  {
   "cell_type": "code",
   "execution_count": 35,
   "metadata": {},
   "outputs": [
    {
     "name": "stderr",
     "output_type": "stream",
     "text": [
      "C:\\Users\\stabe\\Anaconda3\\lib\\site-packages\\seaborn\\categorical.py:3666: UserWarning: The `factorplot` function has been renamed to `catplot`. The original name will be removed in a future release. Please update your code. Note that the default `kind` in `factorplot` (`'point'`) has changed `'strip'` in `catplot`.\n",
      "  warnings.warn(msg)\n",
      "C:\\Users\\stabe\\Anaconda3\\lib\\site-packages\\seaborn\\categorical.py:3672: UserWarning: The `size` paramter has been renamed to `height`; please update your code.\n",
      "  warnings.warn(msg, UserWarning)\n"
     ]
    },
    {
     "data": {
      "text/plain": [
       "<Figure size 3600x1440 with 0 Axes>"
      ]
     },
     "metadata": {},
     "output_type": "display_data"
    },
    {
     "data": {
      "image/png": "[encoded data removed]",
      "text/plain": [
       "<Figure size 913.5x288 with 1 Axes>"
      ]
     },
     "metadata": {
      "needs_background": "light"
     },
     "output_type": "display_data"
    }
   ],
   "source": [
    "joined_df = SF_df.append(NY_df)\n",
    "joined_df = joined_df[joined_df.holiday_name != 'Veterans Day (Observed)']\n",
    "plt.figure(figsize=(50,20))\n",
    "ax=sns.factorplot(x='holiday_name', y='Average_Price', hue='City', data=joined_df, kind='bar', palette=[\"g\",\"b\"], size=4, aspect=3)\n",
    "ax.set(xlabel='Holiday', ylabel='Average Price (US$)')\n",
    "ax.set_xticklabels(rotation=90)\n",
    "plt.title(\"NYC and SF Average Prices: Holidays\") \n",
    "plt.savefig(\"Average Holiday Prices.png\", bbox_inches='tight')"
   ]
  },
  {
   "cell_type": "code",
   "execution_count": null,
   "metadata": {},
   "outputs": [],
   "source": []
  }
 ],
 "metadata": {
  "kernelspec": {
   "display_name": "Python 3",
   "language": "python",
   "name": "python3"
  },
  "language_info": {
   "codemirror_mode": {
    "name": "ipython",
    "version": 3
   },
   "file_extension": ".py",
   "mimetype": "text/x-python",
   "name": "python",
   "nbconvert_exporter": "python",
   "pygments_lexer": "ipython3",
   "version": "3.7.3"
  }
 },
 "nbformat": 4,
 "nbformat_minor": 2
}
