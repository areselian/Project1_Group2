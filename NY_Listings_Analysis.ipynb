{
 "cells": [
  {
   "cell_type": "code",
   "execution_count": 156,
   "metadata": {},
   "outputs": [
    {
     "name": "stderr",
     "output_type": "stream",
     "text": [
      "/opt/anaconda3/lib/python3.7/site-packages/IPython/core/interactiveshell.py:3058: DtypeWarning: Columns (61,87,88) have mixed types. Specify dtype option on import or set low_memory=False.\n",
      "  interactivity=interactivity, compiler=compiler, result=result)\n"
     ]
    },
    {
     "name": "stdout",
     "output_type": "stream",
     "text": [
      "<class 'pandas.core.frame.DataFrame'>\n",
      "Int64Index: 33600 entries, 0 to 49037\n",
      "Data columns (total 96 columns):\n",
      "id                                  33600 non-null int64\n",
      "listing_url                         33600 non-null object\n",
      "scrape_id                           33600 non-null int64\n",
      "last_scraped                        33600 non-null object\n",
      "name                                33600 non-null object\n",
      "summary                             33600 non-null object\n",
      "space                               33600 non-null object\n",
      "description                         33600 non-null object\n",
      "experiences_offered                 33600 non-null object\n",
      "neighborhood_overview               33600 non-null object\n",
      "notes                               33600 non-null object\n",
      "transit                             33600 non-null object\n",
      "access                              33600 non-null object\n",
      "interaction                         33600 non-null object\n",
      "house_rules                         33600 non-null object\n",
      "thumbnail_url                       33600 non-null float64\n",
      "medium_url                          33600 non-null float64\n",
      "picture_url                         33600 non-null object\n",
      "xl_picture_url                      33600 non-null float64\n",
      "host_id                             33600 non-null int64\n",
      "host_url                            33600 non-null object\n",
      "host_name                           33600 non-null object\n",
      "host_since                          33600 non-null object\n",
      "host_location                       33600 non-null object\n",
      "host_about                          33600 non-null object\n",
      "host_response_time                  33600 non-null object\n",
      "host_response_rate                  33600 non-null object\n",
      "host_acceptance_rate                33600 non-null float64\n",
      "host_is_superhost                   33600 non-null object\n",
      "host_thumbnail_url                  33600 non-null object\n",
      "host_picture_url                    33600 non-null object\n",
      "host_neighbourhood                  33600 non-null object\n",
      "host_listings_count                 33600 non-null float64\n",
      "host_total_listings_count           33600 non-null float64\n",
      "host_verifications                  33600 non-null object\n",
      "host_has_profile_pic                33600 non-null object\n",
      "host_identity_verified              33600 non-null object\n",
      "street                              33600 non-null object\n",
      "neighbourhood                       33600 non-null object\n",
      "neighbourhood_cleansed              33600 non-null object\n",
      "neighbourhood_group_cleansed        33600 non-null object\n",
      "city                                33600 non-null object\n",
      "state                               33600 non-null object\n",
      "zipcode                             33600 non-null object\n",
      "market                              33600 non-null object\n",
      "smart_location                      33600 non-null object\n",
      "country_code                        33600 non-null object\n",
      "country                             33600 non-null object\n",
      "latitude                            33600 non-null float64\n",
      "longitude                           33600 non-null float64\n",
      "is_location_exact                   33600 non-null object\n",
      "property_type                       33600 non-null object\n",
      "room_type                           33600 non-null object\n",
      "accommodates                        33600 non-null int64\n",
      "bathrooms                           33600 non-null float64\n",
      "bedrooms                            33600 non-null float64\n",
      "beds                                33600 non-null float64\n",
      "bed_type                            33600 non-null object\n",
      "amenities                           33600 non-null object\n",
      "square_feet                         33600 non-null float64\n",
      "price                               33600 non-null float64\n",
      "weekly_price                        33600 non-null object\n",
      "monthly_price                       33600 non-null object\n",
      "security_deposit                    33600 non-null object\n",
      "cleaning_fee                        33600 non-null object\n",
      "guests_included                     33600 non-null int64\n",
      "extra_people                        33600 non-null object\n",
      "minimum_nights                      33600 non-null int64\n",
      "maximum_nights                      33600 non-null int64\n",
      "calendar_updated                    33600 non-null object\n",
      "has_availability                    33600 non-null object\n",
      "availability_30                     33600 non-null int64\n",
      "availability_60                     33600 non-null int64\n",
      "availability_90                     33600 non-null int64\n",
      "availability_365                    33600 non-null int64\n",
      "calendar_last_scraped               33600 non-null object\n",
      "number_of_reviews                   33600 non-null int64\n",
      "first_review                        33600 non-null object\n",
      "last_review                         33600 non-null object\n",
      "review_scores_rating                33600 non-null float64\n",
      "review_scores_accuracy              33600 non-null float64\n",
      "review_scores_cleanliness           33600 non-null float64\n",
      "review_scores_checkin               33600 non-null float64\n",
      "review_scores_communication         33600 non-null float64\n",
      "review_scores_location              33600 non-null float64\n",
      "review_scores_value                 33600 non-null float64\n",
      "requires_license                    33600 non-null object\n",
      "license                             33600 non-null object\n",
      "jurisdiction_names                  33600 non-null object\n",
      "instant_bookable                    33600 non-null object\n",
      "is_business_travel_ready            33600 non-null object\n",
      "cancellation_policy                 33600 non-null object\n",
      "require_guest_profile_picture       33600 non-null object\n",
      "require_guest_phone_verification    33600 non-null object\n",
      "calculated_host_listings_count      33600 non-null int64\n",
      "reviews_per_month                   33600 non-null float64\n",
      "dtypes: float64(21), int64(13), object(62)\n",
      "memory usage: 24.9+ MB\n"
     ]
    }
   ],
   "source": [
    "import pandas as pd\n",
    "import numpy as np\n",
    "from collections import Counter\n",
    "import seaborn as sns\n",
    "import matplotlib\n",
    "import matplotlib.pyplot as plt\n",
    "inputDF = pd.read_csv(\"ny_listing_2018.csv.gz\")\n",
    "\n",
    "\n",
    "# replacing NaN values with 0\n",
    "inputDF.fillna(0, inplace=True)\n",
    "\n",
    "#Extracting prices from the table\n",
    "price = inputDF['price']\n",
    "prices=[]\n",
    "\n",
    "#clean the data to make it float\n",
    "for p in price:\n",
    "    p=float(p[1:].replace(',',''))\n",
    "    prices.append(p)\n",
    "\n",
    "#replace the price column with the new column\n",
    "inputDF['price']=prices\n",
    "\n",
    "#exclude the listings with 0 for price,beds,bedrooms,accomodates etc\n",
    "inputDF = inputDF[inputDF.bathrooms >0]\n",
    "inputDF = inputDF[inputDF.bedrooms > 0]\n",
    "inputDF = inputDF[inputDF.beds > 0]\n",
    "inputDF = inputDF[inputDF.price  > 0]\n",
    "inputDF = inputDF[inputDF.review_scores_rating  > 0]\n",
    "inputDF = inputDF[inputDF.reviews_per_month > 0]\n",
    "inputDF = inputDF[inputDF.accommodates  > 0]\n",
    "inputDF.info()"
   ]
  },
  {
   "cell_type": "code",
   "execution_count": 157,
   "metadata": {},
   "outputs": [
    {
     "data": {
      "text/html": [
       "<div>\n",
       "<style scoped>\n",
       "    .dataframe tbody tr th:only-of-type {\n",
       "        vertical-align: middle;\n",
       "    }\n",
       "\n",
       "    .dataframe tbody tr th {\n",
       "        vertical-align: top;\n",
       "    }\n",
       "\n",
       "    .dataframe thead th {\n",
       "        text-align: right;\n",
       "    }\n",
       "</style>\n",
       "<table border=\"1\" class=\"dataframe\">\n",
       "  <thead>\n",
       "    <tr style=\"text-align: right;\">\n",
       "      <th></th>\n",
       "      <th>room_type</th>\n",
       "      <th>number_Of_Listings</th>\n",
       "    </tr>\n",
       "  </thead>\n",
       "  <tbody>\n",
       "    <tr>\n",
       "      <td>0</td>\n",
       "      <td>Entire home/apt</td>\n",
       "      <td>16903</td>\n",
       "    </tr>\n",
       "    <tr>\n",
       "      <td>1</td>\n",
       "      <td>Private room</td>\n",
       "      <td>15966</td>\n",
       "    </tr>\n",
       "    <tr>\n",
       "      <td>2</td>\n",
       "      <td>Shared room</td>\n",
       "      <td>731</td>\n",
       "    </tr>\n",
       "  </tbody>\n",
       "</table>\n",
       "</div>"
      ],
      "text/plain": [
       "         room_type  number_Of_Listings\n",
       "0  Entire home/apt               16903\n",
       "1     Private room               15966\n",
       "2      Shared room                 731"
      ]
     },
     "execution_count": 157,
     "metadata": {},
     "output_type": "execute_result"
    }
   ],
   "source": [
    "# Categorizing differernt listings based on room_type\n",
    "\n",
    "roomType_DF=inputDF.groupby('room_type').id.count()\n",
    "roomType_DF=roomType_DF.reset_index()\n",
    "roomType_DF=roomType_DF.rename(columns={'id':'number_Of_Listings'})\n",
    "roomType_DF"
   ]
  },
  {
   "cell_type": "code",
   "execution_count": null,
   "metadata": {},
   "outputs": [],
   "source": []
  },
  {
   "cell_type": "code",
   "execution_count": 158,
   "metadata": {},
   "outputs": [
    {
     "data": {
      "text/plain": [
       "<matplotlib.axes._subplots.AxesSubplot at 0x1a80716150>"
      ]
     },
     "execution_count": 158,
     "metadata": {},
     "output_type": "execute_result"
    },
    {
     "data": {
      "image/png": "[encoded data removed]",
      "text/plain": [
       "<Figure size 720x720 with 1 Axes>"
      ]
     },
     "metadata": {},
     "output_type": "display_data"
    }
   ],
   "source": [
    "#room type visualizations \n",
    "\n",
    "matplotlib.style.use('ggplot')\n",
    "\n",
    "room = inputDF.room_type\n",
    "r = Counter(room)\n",
    "\n",
    "room_df = pd.DataFrame.from_dict(r, orient='index').sort_values(by=0)\n",
    "room_df.columns = ['room_type']\n",
    "room_df.plot.pie(y = 'room_type', \n",
    "                 colormap = 'Blues_r', \n",
    "                 figsize=(10,10), \n",
    "                 fontsize = 20, autopct = '%.2f',\n",
    "                 legend = False,\n",
    "                 title = 'Room Type Distribution')"
   ]
  },
  {
   "cell_type": "code",
   "execution_count": 167,
   "metadata": {},
   "outputs": [
    {
     "data": {
      "text/plain": [
       "Text(0, 0.5, 'Number of listings')"
      ]
     },
     "execution_count": 167,
     "metadata": {},
     "output_type": "execute_result"
    },
    {
     "data": {
      "image/png": "[encoded data removed]",
      "text/plain": [
       "<Figure size 1080x576 with 1 Axes>"
      ]
     },
     "metadata": {},
     "output_type": "display_data"
    }
   ],
   "source": [
    "# Analyzing and plotting the number of listings based on their property type\n",
    "\n",
    "%matplotlib inline\n",
    "matplotlib.style.use('ggplot')\n",
    "\n",
    "propertytype_DF = inputDF.groupby('property_type').id.count()\n",
    "propertytype_DF= propertytype_DF.reset_index()\n",
    "propertytype_DF=propertytype_DF.rename(columns={'id':'Number_Of_Listings'})\n",
    "\n",
    "objects = propertytype_DF['property_type']\n",
    "y_pos = propertytype_DF['Number_Of_Listings']\n",
    "\n",
    "propertytype_DF.plot(kind='bar', \n",
    "           x='property_type',\n",
    "           y='Number_Of_Listings',\n",
    "           color = '#66c2ff', \n",
    "           figsize =(15,8), \n",
    "           title = 'New York Property Type Frequency', \n",
    "           legend = False)\n",
    "plt.ylabel('property type')\n",
    "plt.ylabel('Number of listings')"
   ]
  },
  {
   "cell_type": "code",
   "execution_count": 160,
   "metadata": {},
   "outputs": [
    {
     "data": {
      "text/html": [
       "<div>\n",
       "<style scoped>\n",
       "    .dataframe tbody tr th:only-of-type {\n",
       "        vertical-align: middle;\n",
       "    }\n",
       "\n",
       "    .dataframe tbody tr th {\n",
       "        vertical-align: top;\n",
       "    }\n",
       "\n",
       "    .dataframe thead th {\n",
       "        text-align: right;\n",
       "    }\n",
       "</style>\n",
       "<table border=\"1\" class=\"dataframe\">\n",
       "  <thead>\n",
       "    <tr style=\"text-align: right;\">\n",
       "      <th></th>\n",
       "      <th>property_type</th>\n",
       "      <th>room_type</th>\n",
       "      <th>price</th>\n",
       "    </tr>\n",
       "  </thead>\n",
       "  <tbody>\n",
       "    <tr>\n",
       "      <td>31</td>\n",
       "      <td>Hotel</td>\n",
       "      <td>Entire home/apt</td>\n",
       "      <td>1100.000000</td>\n",
       "    </tr>\n",
       "    <tr>\n",
       "      <td>45</td>\n",
       "      <td>Resort</td>\n",
       "      <td>Private room</td>\n",
       "      <td>614.095238</td>\n",
       "    </tr>\n",
       "    <tr>\n",
       "      <td>49</td>\n",
       "      <td>Tent</td>\n",
       "      <td>Entire home/apt</td>\n",
       "      <td>550.000000</td>\n",
       "    </tr>\n",
       "    <tr>\n",
       "      <td>36</td>\n",
       "      <td>Houseboat</td>\n",
       "      <td>Entire home/apt</td>\n",
       "      <td>500.000000</td>\n",
       "    </tr>\n",
       "    <tr>\n",
       "      <td>44</td>\n",
       "      <td>Resort</td>\n",
       "      <td>Entire home/apt</td>\n",
       "      <td>436.800000</td>\n",
       "    </tr>\n",
       "  </tbody>\n",
       "</table>\n",
       "</div>"
      ],
      "text/plain": [
       "   property_type        room_type        price\n",
       "31         Hotel  Entire home/apt  1100.000000\n",
       "45        Resort     Private room   614.095238\n",
       "49          Tent  Entire home/apt   550.000000\n",
       "36     Houseboat  Entire home/apt   500.000000\n",
       "44        Resort  Entire home/apt   436.800000"
      ]
     },
     "execution_count": 160,
     "metadata": {},
     "output_type": "execute_result"
    }
   ],
   "source": [
    "# analyzing the prices for different room type and property type\n",
    "\n",
    "roomProperty_DF = inputDF.groupby(['property_type','room_type']).price.mean()\n",
    "roomProperty_DF = roomProperty_DF.reset_index()\n",
    "roomProperty_DF=roomProperty_DF.sort_values('price',ascending=[0])\n",
    "roomProperty_DF.head()"
   ]
  },
  {
   "cell_type": "code",
   "execution_count": 161,
   "metadata": {},
   "outputs": [
    {
     "data": {
      "text/html": [
       "<div>\n",
       "<style scoped>\n",
       "    .dataframe tbody tr th:only-of-type {\n",
       "        vertical-align: middle;\n",
       "    }\n",
       "\n",
       "    .dataframe tbody tr th {\n",
       "        vertical-align: top;\n",
       "    }\n",
       "\n",
       "    .dataframe thead th {\n",
       "        text-align: right;\n",
       "    }\n",
       "</style>\n",
       "<table border=\"1\" class=\"dataframe\">\n",
       "  <thead>\n",
       "    <tr style=\"text-align: right;\">\n",
       "      <th></th>\n",
       "      <th>room_type</th>\n",
       "      <th>average_Price</th>\n",
       "    </tr>\n",
       "  </thead>\n",
       "  <tbody>\n",
       "    <tr>\n",
       "      <td>0</td>\n",
       "      <td>Entire home/apt</td>\n",
       "      <td>207.184583</td>\n",
       "    </tr>\n",
       "    <tr>\n",
       "      <td>1</td>\n",
       "      <td>Private room</td>\n",
       "      <td>82.712827</td>\n",
       "    </tr>\n",
       "    <tr>\n",
       "      <td>2</td>\n",
       "      <td>Shared room</td>\n",
       "      <td>64.050616</td>\n",
       "    </tr>\n",
       "  </tbody>\n",
       "</table>\n",
       "</div>"
      ],
      "text/plain": [
       "         room_type  average_Price\n",
       "0  Entire home/apt     207.184583\n",
       "1     Private room      82.712827\n",
       "2      Shared room      64.050616"
      ]
     },
     "execution_count": 161,
     "metadata": {},
     "output_type": "execute_result"
    }
   ],
   "source": [
    "# Average prices for each type of listing\n",
    "\n",
    "avgPrice_DF=inputDF.groupby('room_type').price.mean()\n",
    "avgPrice_DF=avgPrice_DF.reset_index()\n",
    "avgPrice_DF=avgPrice_DF.rename(columns={'price':'average_Price'})\n",
    "avgPrice_DF"
   ]
  },
  {
   "cell_type": "code",
   "execution_count": null,
   "metadata": {},
   "outputs": [],
   "source": []
  },
  {
   "cell_type": "code",
   "execution_count": 162,
   "metadata": {},
   "outputs": [
    {
     "data": {
      "text/html": [
       "<div>\n",
       "<style scoped>\n",
       "    .dataframe tbody tr th:only-of-type {\n",
       "        vertical-align: middle;\n",
       "    }\n",
       "\n",
       "    .dataframe tbody tr th {\n",
       "        vertical-align: top;\n",
       "    }\n",
       "\n",
       "    .dataframe thead th {\n",
       "        text-align: right;\n",
       "    }\n",
       "</style>\n",
       "<table border=\"1\" class=\"dataframe\">\n",
       "  <thead>\n",
       "    <tr style=\"text-align: right;\">\n",
       "      <th></th>\n",
       "      <th>neighbourhood_group_cleansed</th>\n",
       "      <th>Number_Of_Listings</th>\n",
       "    </tr>\n",
       "  </thead>\n",
       "  <tbody>\n",
       "    <tr>\n",
       "      <td>2</td>\n",
       "      <td>Manhattan</td>\n",
       "      <td>8196</td>\n",
       "    </tr>\n",
       "    <tr>\n",
       "      <td>1</td>\n",
       "      <td>Brooklyn</td>\n",
       "      <td>6988</td>\n",
       "    </tr>\n",
       "    <tr>\n",
       "      <td>3</td>\n",
       "      <td>Queens</td>\n",
       "      <td>1413</td>\n",
       "    </tr>\n",
       "    <tr>\n",
       "      <td>0</td>\n",
       "      <td>Bronx</td>\n",
       "      <td>202</td>\n",
       "    </tr>\n",
       "    <tr>\n",
       "      <td>4</td>\n",
       "      <td>Staten Island</td>\n",
       "      <td>104</td>\n",
       "    </tr>\n",
       "  </tbody>\n",
       "</table>\n",
       "</div>"
      ],
      "text/plain": [
       "  neighbourhood_group_cleansed  Number_Of_Listings\n",
       "2                    Manhattan                8196\n",
       "1                     Brooklyn                6988\n",
       "3                       Queens                1413\n",
       "0                        Bronx                 202\n",
       "4                Staten Island                 104"
      ]
     },
     "execution_count": 162,
     "metadata": {},
     "output_type": "execute_result"
    }
   ],
   "source": [
    "# grouping neighbourhood by number of listings\n",
    "\n",
    "neighbourhood_DF=home.groupby('neighbourhood_group_cleansed').id.count()\n",
    "neighbourhood_DF=neighbourhood_DF.reset_index()\n",
    "neighbourhood_DF=neighbourhood_DF.rename(columns={'id':'Number_Of_Listings'})\n",
    "neighbourhood_DF=neighbourhood_DF.sort_values('Number_Of_Listings',ascending=[0])\n",
    "neighbourhood_DF.head()"
   ]
  },
  {
   "cell_type": "code",
   "execution_count": 163,
   "metadata": {},
   "outputs": [
    {
     "data": {
      "text/html": [
       "<div>\n",
       "<style scoped>\n",
       "    .dataframe tbody tr th:only-of-type {\n",
       "        vertical-align: middle;\n",
       "    }\n",
       "\n",
       "    .dataframe tbody tr th {\n",
       "        vertical-align: top;\n",
       "    }\n",
       "\n",
       "    .dataframe thead th {\n",
       "        text-align: right;\n",
       "    }\n",
       "</style>\n",
       "<table border=\"1\" class=\"dataframe\">\n",
       "  <thead>\n",
       "    <tr style=\"text-align: right;\">\n",
       "      <th></th>\n",
       "      <th>neighbourhood_group_cleansed</th>\n",
       "      <th>Average_Price</th>\n",
       "    </tr>\n",
       "  </thead>\n",
       "  <tbody>\n",
       "    <tr>\n",
       "      <td>2</td>\n",
       "      <td>Manhattan</td>\n",
       "      <td>247.183260</td>\n",
       "    </tr>\n",
       "    <tr>\n",
       "      <td>1</td>\n",
       "      <td>Brooklyn</td>\n",
       "      <td>177.147109</td>\n",
       "    </tr>\n",
       "    <tr>\n",
       "      <td>3</td>\n",
       "      <td>Queens</td>\n",
       "      <td>142.453645</td>\n",
       "    </tr>\n",
       "    <tr>\n",
       "      <td>4</td>\n",
       "      <td>Staten Island</td>\n",
       "      <td>135.634615</td>\n",
       "    </tr>\n",
       "    <tr>\n",
       "      <td>0</td>\n",
       "      <td>Bronx</td>\n",
       "      <td>113.019802</td>\n",
       "    </tr>\n",
       "  </tbody>\n",
       "</table>\n",
       "</div>"
      ],
      "text/plain": [
       "  neighbourhood_group_cleansed  Average_Price\n",
       "2                    Manhattan     247.183260\n",
       "1                     Brooklyn     177.147109\n",
       "3                       Queens     142.453645\n",
       "4                Staten Island     135.634615\n",
       "0                        Bronx     113.019802"
      ]
     },
     "execution_count": 163,
     "metadata": {},
     "output_type": "execute_result"
    }
   ],
   "source": [
    "# grouping neighbourhood by average price of listings\n",
    "\n",
    "neighbourhoodPrice_DF=home.groupby('neighbourhood_group_cleansed').price.mean()\n",
    "neighbourhoodPrice_DF=neighbourhoodPrice_DF.reset_index()\n",
    "neighbourhoodPrice_DF=neighbourhoodPrice_DF.rename(columns={'price':'Average_Price'})\n",
    "neighbourhoodPrice_DF=neighbourhoodPrice_DF.sort_values('Average_Price',ascending=[0])\n",
    "neighbourhoodPrice_DF.head()"
   ]
  },
  {
   "cell_type": "code",
   "execution_count": 164,
   "metadata": {},
   "outputs": [
    {
     "data": {
      "text/html": [
       "<div>\n",
       "<style scoped>\n",
       "    .dataframe tbody tr th:only-of-type {\n",
       "        vertical-align: middle;\n",
       "    }\n",
       "\n",
       "    .dataframe tbody tr th {\n",
       "        vertical-align: top;\n",
       "    }\n",
       "\n",
       "    .dataframe thead th {\n",
       "        text-align: right;\n",
       "    }\n",
       "</style>\n",
       "<table border=\"1\" class=\"dataframe\">\n",
       "  <thead>\n",
       "    <tr style=\"text-align: right;\">\n",
       "      <th></th>\n",
       "      <th>neighbourhood_group_cleansed</th>\n",
       "      <th>Number_Of_Listings</th>\n",
       "      <th>Average_Price</th>\n",
       "    </tr>\n",
       "  </thead>\n",
       "  <tbody>\n",
       "    <tr>\n",
       "      <td>0</td>\n",
       "      <td>Manhattan</td>\n",
       "      <td>8196</td>\n",
       "      <td>247.183260</td>\n",
       "    </tr>\n",
       "    <tr>\n",
       "      <td>1</td>\n",
       "      <td>Brooklyn</td>\n",
       "      <td>6988</td>\n",
       "      <td>177.147109</td>\n",
       "    </tr>\n",
       "    <tr>\n",
       "      <td>2</td>\n",
       "      <td>Queens</td>\n",
       "      <td>1413</td>\n",
       "      <td>142.453645</td>\n",
       "    </tr>\n",
       "    <tr>\n",
       "      <td>3</td>\n",
       "      <td>Bronx</td>\n",
       "      <td>202</td>\n",
       "      <td>113.019802</td>\n",
       "    </tr>\n",
       "    <tr>\n",
       "      <td>4</td>\n",
       "      <td>Staten Island</td>\n",
       "      <td>104</td>\n",
       "      <td>135.634615</td>\n",
       "    </tr>\n",
       "  </tbody>\n",
       "</table>\n",
       "</div>"
      ],
      "text/plain": [
       "  neighbourhood_group_cleansed  Number_Of_Listings  Average_Price\n",
       "0                    Manhattan                8196     247.183260\n",
       "1                     Brooklyn                6988     177.147109\n",
       "2                       Queens                1413     142.453645\n",
       "3                        Bronx                 202     113.019802\n",
       "4                Staten Island                 104     135.634615"
      ]
     },
     "execution_count": 164,
     "metadata": {},
     "output_type": "execute_result"
    }
   ],
   "source": [
    "#Merging above two dataframes\n",
    "\n",
    "mergeDF=pd.merge(neighbourhood_DF,neighbourhoodPrice_DF,on='neighbourhood_group_cleansed')\n",
    "mergeDF.head()"
   ]
  },
  {
   "cell_type": "code",
   "execution_count": 168,
   "metadata": {},
   "outputs": [
    {
     "data": {
      "image/png": "[encoded data removed]",
      "text/plain": [
       "<Figure size 1152x576 with 1 Axes>"
      ]
     },
     "metadata": {},
     "output_type": "display_data"
    }
   ],
   "source": [
    "# visualizing the frequency of listings on the basis of neighbourhood where room type is entire apartment\n",
    "\n",
    "objects = neighbourhood_DF['neighbourhood_group_cleansed']\n",
    "y_pos = neighbourhood_DF['Number_Of_Listings']\n",
    "\n",
    "neighbourhood_DF.plot(kind='bar', \n",
    "           x='neighbourhood_group_cleansed',\n",
    "           y='Number_Of_Listings',\n",
    "           color = 'y', \n",
    "           figsize =(16,8), \n",
    "           title = 'New York Number of Listings', \n",
    "           legend = False)\n",
    "\n",
    "plt.ylabel('Number Of Listings')\n",
    "plt.locator_params(nbins=5)"
   ]
  },
  {
   "cell_type": "code",
   "execution_count": 169,
   "metadata": {},
   "outputs": [
    {
     "data": {
      "image/png": "[encoded data removed]",
      "text/plain": [
       "<Figure size 1080x576 with 1 Axes>"
      ]
     },
     "metadata": {},
     "output_type": "display_data"
    }
   ],
   "source": [
    "# visualize average price of these listings on the basis of neighbourhood where room type is entire apartment\n",
    "\n",
    "objects = neighbourhoodPrice_DF['neighbourhood_group_cleansed']\n",
    "y_pos = neighbourhoodPrice_DF['Average_Price']\n",
    "\n",
    "neighbourhoodPrice_DF.plot(kind='bar', \n",
    "           x='neighbourhood_group_cleansed',\n",
    "           y='Average_Price',\n",
    "           color = 'b', \n",
    "           figsize =(15,8), \n",
    "           title = 'New York Neighborhood Average price', \n",
    "           legend = False)\n",
    "\n",
    "plt.ylabel('Average Price')\n",
    "plt.locator_params(nbins=5)"
   ]
  },
  {
   "cell_type": "code",
   "execution_count": null,
   "metadata": {},
   "outputs": [],
   "source": []
  },
  {
   "cell_type": "code",
   "execution_count": null,
   "metadata": {},
   "outputs": [],
   "source": []
  },
  {
   "cell_type": "code",
   "execution_count": null,
   "metadata": {},
   "outputs": [],
   "source": []
  },
  {
   "cell_type": "code",
   "execution_count": null,
   "metadata": {},
   "outputs": [],
   "source": []
  }
 ],
 "metadata": {
  "kernelspec": {
   "display_name": "Python 3",
   "language": "python",
   "name": "python3"
  },
  "language_info": {
   "codemirror_mode": {
    "name": "ipython",
    "version": 3
   },
   "file_extension": ".py",
   "mimetype": "text/x-python",
   "name": "python",
   "nbconvert_exporter": "python",
   "pygments_lexer": "ipython3",
   "version": "3.7.4"
  }
 },
 "nbformat": 4,
 "nbformat_minor": 2
}
